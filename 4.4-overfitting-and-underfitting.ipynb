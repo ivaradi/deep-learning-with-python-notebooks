{
 "cells": [
  {
   "cell_type": "code",
   "execution_count": 1,
   "metadata": {},
   "outputs": [
    {
     "data": {
      "text/plain": [
       "'2.4.3'"
      ]
     },
     "execution_count": 1,
     "metadata": {},
     "output_type": "execute_result"
    }
   ],
   "source": [
    "import keras\n",
    "keras.__version__"
   ]
  },
  {
   "cell_type": "markdown",
   "metadata": {},
   "source": [
    "# Overfitting and underfitting\n",
    "\n",
    "This notebook contains the code samples found in Chapter 3, Section 6 of [Deep Learning with Python](https://www.manning.com/books/deep-learning-with-python?a_aid=keras&a_bid=76564dff). Note that the original text features far more content, in particular further explanations and figures: in this notebook, you will only find source code and related comments.\n",
    "\n",
    "----\n",
    "\n",
    "\n",
    "In all the examples we saw in the previous chapter -- movie review sentiment prediction, topic classification, and house price regression -- \n",
    "we could notice that the performance of our model on the held-out validation data would always peak after a few epochs and would then start \n",
    "degrading, i.e. our model would quickly start to _overfit_ to the training data. Overfitting happens in every single machine learning \n",
    "problem. Learning how to deal with overfitting is essential to mastering machine learning.\n",
    "\n",
    "The fundamental issue in machine learning is the tension between optimization and generalization. \"Optimization\" refers to the process of \n",
    "adjusting a model to get the best performance possible on the training data (the \"learning\" in \"machine learning\"), while \"generalization\" \n",
    "refers to how well the trained model would perform on data it has never seen before. The goal of the game is to get good generalization, of \n",
    "course, but you do not control generalization; you can only adjust the model based on its training data.\n",
    "\n",
    "At the beginning of training, optimization and generalization are correlated: the lower your loss on training data, the lower your loss on \n",
    "test data. While this is happening, your model is said to be _under-fit_: there is still progress to be made; the network hasn't yet \n",
    "modeled all relevant patterns in the training data. But after a certain number of iterations on the training data, generalization stops \n",
    "improving, validation metrics stall then start degrading: the model is then starting to over-fit, i.e. is it starting to learn patterns \n",
    "that are specific to the training data but that are misleading or irrelevant when it comes to new data.\n",
    "\n",
    "To prevent a model from learning misleading or irrelevant patterns found in the training data, _the best solution is of course to get \n",
    "more training data_. A model trained on more data will naturally generalize better. When that is no longer possible, the next best solution \n",
    "is to modulate the quantity of information that your model is allowed to store, or to add constraints on what information it is allowed to \n",
    "store. If a network can only afford to memorize a small number of patterns, the optimization process will force it to focus on the most \n",
    "prominent patterns, which have a better chance of generalizing well.\n",
    "\n",
    "The processing of fighting overfitting in this way is called _regularization_. Let's review some of the most common regularization \n",
    "techniques, and let's apply them in practice to improve our movie classification model from  the previous chapter."
   ]
  },
  {
   "cell_type": "markdown",
   "metadata": {},
   "source": [
    "Note: in this notebook we will be using the IMDB test set as our validation set. It doesn't matter in this context.\n",
    "\n",
    "Let's prepare the data using the code from Chapter 3, Section 5:"
   ]
  },
  {
   "cell_type": "code",
   "execution_count": 2,
   "metadata": {},
   "outputs": [
    {
     "name": "stderr",
     "output_type": "stream",
     "text": [
      "<__array_function__ internals>:5: VisibleDeprecationWarning: Creating an ndarray from ragged nested sequences (which is a list-or-tuple of lists-or-tuples-or ndarrays with different lengths or shapes) is deprecated. If you meant to do this, you must specify 'dtype=object' when creating the ndarray\n",
      "/usr/local/lib/python3.8/dist-packages/tensorflow/python/keras/datasets/imdb.py:159: VisibleDeprecationWarning: Creating an ndarray from ragged nested sequences (which is a list-or-tuple of lists-or-tuples-or ndarrays with different lengths or shapes) is deprecated. If you meant to do this, you must specify 'dtype=object' when creating the ndarray\n",
      "  x_train, y_train = np.array(xs[:idx]), np.array(labels[:idx])\n",
      "/usr/local/lib/python3.8/dist-packages/tensorflow/python/keras/datasets/imdb.py:160: VisibleDeprecationWarning: Creating an ndarray from ragged nested sequences (which is a list-or-tuple of lists-or-tuples-or ndarrays with different lengths or shapes) is deprecated. If you meant to do this, you must specify 'dtype=object' when creating the ndarray\n",
      "  x_test, y_test = np.array(xs[idx:]), np.array(labels[idx:])\n"
     ]
    }
   ],
   "source": [
    "from keras.datasets import imdb\n",
    "import numpy as np\n",
    "\n",
    "(train_data, train_labels), (test_data, test_labels) = imdb.load_data(num_words=10000)\n",
    "\n",
    "def vectorize_sequences(sequences, dimension=10000):\n",
    "    # Create an all-zero matrix of shape (len(sequences), dimension)\n",
    "    results = np.zeros((len(sequences), dimension))\n",
    "    for i, sequence in enumerate(sequences):\n",
    "        results[i, sequence] = 1.  # set specific indices of results[i] to 1s\n",
    "    return results\n",
    "\n",
    "# Our vectorized training data\n",
    "x_train = vectorize_sequences(train_data)\n",
    "# Our vectorized test data\n",
    "x_test = vectorize_sequences(test_data)\n",
    "# Our vectorized labels\n",
    "y_train = np.asarray(train_labels).astype('float32')\n",
    "y_test = np.asarray(test_labels).astype('float32')"
   ]
  },
  {
   "cell_type": "markdown",
   "metadata": {},
   "source": [
    "# Fighting overfitting\n",
    "\n",
    "## Reducing the network's size\n",
    "\n",
    "\n",
    "The simplest way to prevent overfitting is to reduce the size of the model, i.e. the number of learnable parameters in the model (which is \n",
    "determined by the number of layers and the number of units per layer). In deep learning, the number of learnable parameters in a model is \n",
    "often referred to as the model's \"capacity\". Intuitively, a model with more parameters will have more \"memorization capacity\" and therefore \n",
    "will be able to easily learn a perfect dictionary-like mapping between training samples and their targets, a mapping without any \n",
    "generalization power. For instance, a model with 500,000 binary parameters could easily be made to learn the class of every digits in the \n",
    "MNIST training set: we would only need 10 binary parameters for each of the 50,000 digits. Such a model would be useless for classifying \n",
    "new digit samples. Always keep this in mind: deep learning models tend to be good at fitting to the training data, but the real challenge \n",
    "is generalization, not fitting.\n",
    "\n",
    "On the other hand, if the network has limited memorization resources, it will not be able to learn this mapping as easily, and thus, in \n",
    "order to minimize its loss, it will have to resort to learning compressed representations that have predictive power regarding the targets \n",
    "-- precisely the type of representations that we are interested in. At the same time, keep in mind that you should be using models that have \n",
    "enough parameters that they won't be underfitting: your model shouldn't be starved for memorization resources. There is a compromise to be \n",
    "found between \"too much capacity\" and \"not enough capacity\".\n",
    "\n",
    "Unfortunately, there is no magical formula to determine what the right number of layers is, or what the right size for each layer is. You \n",
    "will have to evaluate an array of different architectures (on your validation set, not on your test set, of course) in order to find the \n",
    "right model size for your data. The general workflow to find an appropriate model size is to start with relatively few layers and \n",
    "parameters, and start increasing the size of the layers or adding new layers until you see diminishing returns with regard to the \n",
    "validation loss.\n",
    "\n",
    "Let's try this on our movie review classification network. Our original network was as such:"
   ]
  },
  {
   "cell_type": "code",
   "execution_count": 3,
   "metadata": {},
   "outputs": [],
   "source": [
    "from keras import models\n",
    "from keras import layers\n",
    "\n",
    "original_model = models.Sequential()\n",
    "original_model.add(layers.Dense(16, activation='relu', input_shape=(10000,)))\n",
    "original_model.add(layers.Dense(16, activation='relu'))\n",
    "original_model.add(layers.Dense(1, activation='sigmoid'))\n",
    "\n",
    "original_model.compile(optimizer='rmsprop',\n",
    "                       loss='binary_crossentropy',\n",
    "                       metrics=['acc'])"
   ]
  },
  {
   "cell_type": "markdown",
   "metadata": {},
   "source": [
    "Now let's try to replace it with this smaller network:"
   ]
  },
  {
   "cell_type": "code",
   "execution_count": 4,
   "metadata": {},
   "outputs": [],
   "source": [
    "smaller_model = models.Sequential()\n",
    "smaller_model.add(layers.Dense(4, activation='relu', input_shape=(10000,)))\n",
    "smaller_model.add(layers.Dense(4, activation='relu'))\n",
    "smaller_model.add(layers.Dense(1, activation='sigmoid'))\n",
    "\n",
    "smaller_model.compile(optimizer='rmsprop',\n",
    "                      loss='binary_crossentropy',\n",
    "                      metrics=['acc'])"
   ]
  },
  {
   "cell_type": "markdown",
   "metadata": {},
   "source": [
    "\n",
    "Here's a comparison of the validation losses of the original network and the smaller network. The dots are the validation loss values of \n",
    "the smaller network, and the crosses are the initial network (remember: a lower validation loss signals a better model)."
   ]
  },
  {
   "cell_type": "code",
   "execution_count": 5,
   "metadata": {},
   "outputs": [
    {
     "name": "stdout",
     "output_type": "stream",
     "text": [
      "Epoch 1/20\n",
      "49/49 [==============================] - 4s 50ms/step - loss: 0.5678 - acc: 0.7327 - val_loss: 0.3446 - val_acc: 0.8808\n",
      "Epoch 2/20\n",
      "49/49 [==============================] - 1s 19ms/step - loss: 0.2764 - acc: 0.9098 - val_loss: 0.2848 - val_acc: 0.8906\n",
      "Epoch 3/20\n",
      "49/49 [==============================] - 1s 18ms/step - loss: 0.1998 - acc: 0.9327 - val_loss: 0.2778 - val_acc: 0.8890\n",
      "Epoch 4/20\n",
      "49/49 [==============================] - 1s 19ms/step - loss: 0.1695 - acc: 0.9396 - val_loss: 0.2925 - val_acc: 0.8839\n",
      "Epoch 5/20\n",
      "49/49 [==============================] - 1s 18ms/step - loss: 0.1414 - acc: 0.9519 - val_loss: 0.3051 - val_acc: 0.8817\n",
      "Epoch 6/20\n",
      "49/49 [==============================] - 1s 19ms/step - loss: 0.1280 - acc: 0.9568 - val_loss: 0.3644 - val_acc: 0.8660\n",
      "Epoch 7/20\n",
      "49/49 [==============================] - 1s 19ms/step - loss: 0.1120 - acc: 0.9641 - val_loss: 0.3460 - val_acc: 0.8756\n",
      "Epoch 8/20\n",
      "49/49 [==============================] - 1s 19ms/step - loss: 0.0951 - acc: 0.9702 - val_loss: 0.3708 - val_acc: 0.8714\n",
      "Epoch 9/20\n",
      "49/49 [==============================] - 1s 19ms/step - loss: 0.0867 - acc: 0.9725 - val_loss: 0.4119 - val_acc: 0.8644\n",
      "Epoch 10/20\n",
      "49/49 [==============================] - 1s 19ms/step - loss: 0.0791 - acc: 0.9752 - val_loss: 0.4247 - val_acc: 0.8652\n",
      "Epoch 11/20\n",
      "49/49 [==============================] - 1s 19ms/step - loss: 0.0707 - acc: 0.9786 - val_loss: 0.4506 - val_acc: 0.8626\n",
      "Epoch 12/20\n",
      "49/49 [==============================] - 1s 19ms/step - loss: 0.0666 - acc: 0.9791 - val_loss: 0.4820 - val_acc: 0.8603\n",
      "Epoch 13/20\n",
      "49/49 [==============================] - 1s 19ms/step - loss: 0.0559 - acc: 0.9839 - val_loss: 0.5109 - val_acc: 0.8589\n",
      "Epoch 14/20\n",
      "49/49 [==============================] - 1s 18ms/step - loss: 0.0503 - acc: 0.9859 - val_loss: 0.5467 - val_acc: 0.8572\n",
      "Epoch 15/20\n",
      "49/49 [==============================] - 1s 19ms/step - loss: 0.0462 - acc: 0.9864 - val_loss: 0.5819 - val_acc: 0.8532\n",
      "Epoch 16/20\n",
      "49/49 [==============================] - 1s 19ms/step - loss: 0.0434 - acc: 0.9874 - val_loss: 0.6130 - val_acc: 0.8525\n",
      "Epoch 17/20\n",
      "49/49 [==============================] - 1s 19ms/step - loss: 0.0353 - acc: 0.9905 - val_loss: 0.6513 - val_acc: 0.8531\n",
      "Epoch 18/20\n",
      "49/49 [==============================] - 1s 19ms/step - loss: 0.0299 - acc: 0.9926 - val_loss: 0.6805 - val_acc: 0.8510\n",
      "Epoch 19/20\n",
      "49/49 [==============================] - 1s 20ms/step - loss: 0.0258 - acc: 0.9941 - val_loss: 0.7198 - val_acc: 0.8499\n",
      "Epoch 20/20\n",
      "49/49 [==============================] - 1s 19ms/step - loss: 0.0233 - acc: 0.9944 - val_loss: 0.7538 - val_acc: 0.8492\n"
     ]
    }
   ],
   "source": [
    "original_hist = original_model.fit(x_train, y_train,\n",
    "                                   epochs=20,\n",
    "                                   batch_size=512,\n",
    "                                   validation_data=(x_test, y_test))"
   ]
  },
  {
   "cell_type": "code",
   "execution_count": 6,
   "metadata": {},
   "outputs": [
    {
     "name": "stdout",
     "output_type": "stream",
     "text": [
      "Epoch 1/20\n",
      "49/49 [==============================] - 3s 49ms/step - loss: 0.5696 - acc: 0.7212 - val_loss: 0.3709 - val_acc: 0.8725\n",
      "Epoch 2/20\n",
      "49/49 [==============================] - 1s 19ms/step - loss: 0.3038 - acc: 0.9044 - val_loss: 0.3001 - val_acc: 0.8874\n",
      "Epoch 3/20\n",
      "49/49 [==============================] - 1s 19ms/step - loss: 0.2297 - acc: 0.9200 - val_loss: 0.2831 - val_acc: 0.8891\n",
      "Epoch 4/20\n",
      "49/49 [==============================] - 1s 19ms/step - loss: 0.1860 - acc: 0.9394 - val_loss: 0.2916 - val_acc: 0.8814\n",
      "Epoch 5/20\n",
      "49/49 [==============================] - 1s 19ms/step - loss: 0.1645 - acc: 0.9453 - val_loss: 0.2880 - val_acc: 0.8860\n",
      "Epoch 6/20\n",
      "49/49 [==============================] - 1s 19ms/step - loss: 0.1425 - acc: 0.9534 - val_loss: 0.2985 - val_acc: 0.8828\n",
      "Epoch 7/20\n",
      "49/49 [==============================] - 1s 19ms/step - loss: 0.1345 - acc: 0.9561 - val_loss: 0.3172 - val_acc: 0.8759\n",
      "Epoch 8/20\n",
      "49/49 [==============================] - 1s 19ms/step - loss: 0.1156 - acc: 0.9633 - val_loss: 0.3293 - val_acc: 0.8750\n",
      "Epoch 9/20\n",
      "49/49 [==============================] - 1s 19ms/step - loss: 0.1073 - acc: 0.9661 - val_loss: 0.3458 - val_acc: 0.8731\n",
      "Epoch 10/20\n",
      "49/49 [==============================] - 1s 19ms/step - loss: 0.0999 - acc: 0.9700 - val_loss: 0.3539 - val_acc: 0.8729\n",
      "Epoch 11/20\n",
      "49/49 [==============================] - 1s 19ms/step - loss: 0.0892 - acc: 0.9737 - val_loss: 0.3807 - val_acc: 0.8663\n",
      "Epoch 12/20\n",
      "49/49 [==============================] - 1s 19ms/step - loss: 0.0876 - acc: 0.9736 - val_loss: 0.3866 - val_acc: 0.8677\n",
      "Epoch 13/20\n",
      "49/49 [==============================] - 1s 19ms/step - loss: 0.0774 - acc: 0.9779 - val_loss: 0.4061 - val_acc: 0.8661\n",
      "Epoch 14/20\n",
      "49/49 [==============================] - 1s 19ms/step - loss: 0.0733 - acc: 0.9795 - val_loss: 0.4297 - val_acc: 0.8652\n",
      "Epoch 15/20\n",
      "49/49 [==============================] - 1s 18ms/step - loss: 0.0655 - acc: 0.9816 - val_loss: 0.4477 - val_acc: 0.8638\n",
      "Epoch 16/20\n",
      "49/49 [==============================] - 1s 20ms/step - loss: 0.0625 - acc: 0.9840 - val_loss: 0.4624 - val_acc: 0.8597\n",
      "Epoch 17/20\n",
      "49/49 [==============================] - 1s 20ms/step - loss: 0.0551 - acc: 0.9861 - val_loss: 0.4840 - val_acc: 0.8576\n",
      "Epoch 18/20\n",
      "49/49 [==============================] - 1s 19ms/step - loss: 0.0550 - acc: 0.9860 - val_loss: 0.5031 - val_acc: 0.8575\n",
      "Epoch 19/20\n",
      "49/49 [==============================] - 1s 18ms/step - loss: 0.0477 - acc: 0.9885 - val_loss: 0.5392 - val_acc: 0.8572\n",
      "Epoch 20/20\n",
      "49/49 [==============================] - 1s 18ms/step - loss: 0.0465 - acc: 0.9891 - val_loss: 0.5470 - val_acc: 0.8569\n"
     ]
    }
   ],
   "source": [
    "smaller_model_hist = smaller_model.fit(x_train, y_train,\n",
    "                                       epochs=20,\n",
    "                                       batch_size=512,\n",
    "                                       validation_data=(x_test, y_test))"
   ]
  },
  {
   "cell_type": "code",
   "execution_count": 7,
   "metadata": {},
   "outputs": [],
   "source": [
    "epochs = range(1, 21)\n",
    "original_val_loss = original_hist.history['val_loss']\n",
    "smaller_model_val_loss = smaller_model_hist.history['val_loss']"
   ]
  },
  {
   "cell_type": "code",
   "execution_count": 8,
   "metadata": {},
   "outputs": [
    {
     "data": {
      "image/png": "[encoded data removed]",
      "text/plain": [
       "<Figure size 432x288 with 1 Axes>"
      ]
     },
     "metadata": {
      "needs_background": "light"
     },
     "output_type": "display_data"
    }
   ],
   "source": [
    "import matplotlib.pyplot as plt\n",
    "\n",
    "# b+ is for \"blue cross\"\n",
    "plt.plot(epochs, original_val_loss, 'b+', label='Original model')\n",
    "# \"bo\" is for \"blue dot\"\n",
    "plt.plot(epochs, smaller_model_val_loss, 'bo', label='Smaller model')\n",
    "plt.xlabel('Epochs')\n",
    "plt.ylabel('Validation loss')\n",
    "plt.legend()\n",
    "\n",
    "plt.show()"
   ]
  },
  {
   "cell_type": "markdown",
   "metadata": {},
   "source": [
    "\n",
    "As you can see, the smaller network starts overfitting later than the reference one (after 6 epochs rather than 4) and its performance \n",
    "degrades much more slowly once it starts overfitting.\n",
    "\n",
    "Now, for kicks, let's add to this benchmark a network that has much more capacity, far more than the problem would warrant:"
   ]
  },
  {
   "cell_type": "code",
   "execution_count": 9,
   "metadata": {},
   "outputs": [],
   "source": [
    "bigger_model = models.Sequential()\n",
    "bigger_model.add(layers.Dense(512, activation='relu', input_shape=(10000,)))\n",
    "bigger_model.add(layers.Dense(512, activation='relu'))\n",
    "bigger_model.add(layers.Dense(1, activation='sigmoid'))\n",
    "\n",
    "bigger_model.compile(optimizer='rmsprop',\n",
    "                     loss='binary_crossentropy',\n",
    "                     metrics=['acc'])"
   ]
  },
  {
   "cell_type": "code",
   "execution_count": 10,
   "metadata": {},
   "outputs": [
    {
     "name": "stdout",
     "output_type": "stream",
     "text": [
      "Epoch 1/20\n",
      "49/49 [==============================] - 2s 40ms/step - loss: 0.6406 - acc: 0.7590 - val_loss: 0.3351 - val_acc: 0.8536\n",
      "Epoch 2/20\n",
      "49/49 [==============================] - 1s 22ms/step - loss: 0.2210 - acc: 0.9118 - val_loss: 0.2816 - val_acc: 0.8853\n",
      "Epoch 3/20\n",
      "49/49 [==============================] - 1s 22ms/step - loss: 0.1251 - acc: 0.9540 - val_loss: 0.3560 - val_acc: 0.8825\n",
      "Epoch 4/20\n",
      "49/49 [==============================] - 1s 22ms/step - loss: 0.0574 - acc: 0.9798 - val_loss: 0.5200 - val_acc: 0.8653\n",
      "Epoch 5/20\n",
      "49/49 [==============================] - 1s 22ms/step - loss: 0.0378 - acc: 0.9926 - val_loss: 0.4898 - val_acc: 0.8801\n",
      "Epoch 6/20\n",
      "49/49 [==============================] - 1s 22ms/step - loss: 0.0029 - acc: 0.9995 - val_loss: 0.7434 - val_acc: 0.8798\n",
      "Epoch 7/20\n",
      "49/49 [==============================] - 1s 22ms/step - loss: 0.0055 - acc: 0.9996 - val_loss: 1.8701 - val_acc: 0.7877\n",
      "Epoch 8/20\n",
      "49/49 [==============================] - 1s 22ms/step - loss: 0.0248 - acc: 0.9942 - val_loss: 0.7741 - val_acc: 0.8792\n",
      "Epoch 9/20\n",
      "49/49 [==============================] - 1s 22ms/step - loss: 1.0085e-04 - acc: 1.0000 - val_loss: 0.9531 - val_acc: 0.8807\n",
      "Epoch 10/20\n",
      "49/49 [==============================] - 1s 22ms/step - loss: 1.6629e-05 - acc: 1.0000 - val_loss: 1.0750 - val_acc: 0.8798\n",
      "Epoch 11/20\n",
      "49/49 [==============================] - 1s 22ms/step - loss: 2.6078e-06 - acc: 1.0000 - val_loss: 1.2771 - val_acc: 0.8808\n",
      "Epoch 12/20\n",
      "49/49 [==============================] - 1s 22ms/step - loss: 3.1797e-07 - acc: 1.0000 - val_loss: 1.4414 - val_acc: 0.8799\n",
      "Epoch 13/20\n",
      "49/49 [==============================] - 1s 22ms/step - loss: 7.1544e-08 - acc: 1.0000 - val_loss: 1.5439 - val_acc: 0.8793\n",
      "Epoch 14/20\n",
      "49/49 [==============================] - 1s 23ms/step - loss: 2.7099e-08 - acc: 1.0000 - val_loss: 1.6060 - val_acc: 0.8797\n",
      "Epoch 15/20\n",
      "49/49 [==============================] - 1s 22ms/step - loss: 1.5338e-08 - acc: 1.0000 - val_loss: 1.6384 - val_acc: 0.8796\n",
      "Epoch 16/20\n",
      "49/49 [==============================] - 1s 22ms/step - loss: 1.0770e-08 - acc: 1.0000 - val_loss: 1.6633 - val_acc: 0.8796\n",
      "Epoch 17/20\n",
      "49/49 [==============================] - 1s 22ms/step - loss: 8.5361e-09 - acc: 1.0000 - val_loss: 1.6822 - val_acc: 0.8794\n",
      "Epoch 18/20\n",
      "49/49 [==============================] - 1s 22ms/step - loss: 6.7418e-09 - acc: 1.0000 - val_loss: 1.6983 - val_acc: 0.8797\n",
      "Epoch 19/20\n",
      "49/49 [==============================] - 1s 22ms/step - loss: 5.5722e-09 - acc: 1.0000 - val_loss: 1.7116 - val_acc: 0.8798\n",
      "Epoch 20/20\n",
      "49/49 [==============================] - 1s 21ms/step - loss: 5.0805e-09 - acc: 1.0000 - val_loss: 1.7230 - val_acc: 0.8796\n"
     ]
    }
   ],
   "source": [
    "bigger_model_hist = bigger_model.fit(x_train, y_train,\n",
    "                                     epochs=20,\n",
    "                                     batch_size=512,\n",
    "                                     validation_data=(x_test, y_test))"
   ]
  },
  {
   "cell_type": "markdown",
   "metadata": {},
   "source": [
    "Here's how the bigger network fares compared to the reference one. The dots are the validation loss values of the bigger network, and the \n",
    "crosses are the initial network."
   ]
  },
  {
   "cell_type": "code",
   "execution_count": 11,
   "metadata": {},
   "outputs": [
    {
     "data": {
      "image/png": "[encoded data removed]",
      "text/plain": [
       "<Figure size 432x288 with 1 Axes>"
      ]
     },
     "metadata": {
      "needs_background": "light"
     },
     "output_type": "display_data"
    }
   ],
   "source": [
    "bigger_model_val_loss = bigger_model_hist.history['val_loss']\n",
    "\n",
    "plt.plot(epochs, original_val_loss, 'b+', label='Original model')\n",
    "plt.plot(epochs, bigger_model_val_loss, 'bo', label='Bigger model')\n",
    "plt.xlabel('Epochs')\n",
    "plt.ylabel('Validation loss')\n",
    "plt.legend()\n",
    "\n",
    "plt.show()"
   ]
  },
  {
   "cell_type": "markdown",
   "metadata": {},
   "source": [
    "\n",
    "The bigger network starts overfitting almost right away, after just one epoch, and overfits much more severely. Its validation loss is also \n",
    "more noisy.\n",
    "\n",
    "Meanwhile, here are the training losses for our two networks:"
   ]
  },
  {
   "cell_type": "code",
   "execution_count": 12,
   "metadata": {},
   "outputs": [
    {
     "data": {
      "image/png": "[encoded data removed]",
      "text/plain": [
       "<Figure size 432x288 with 1 Axes>"
      ]
     },
     "metadata": {
      "needs_background": "light"
     },
     "output_type": "display_data"
    }
   ],
   "source": [
    "original_train_loss = original_hist.history['loss']\n",
    "bigger_model_train_loss = bigger_model_hist.history['loss']\n",
    "\n",
    "plt.plot(epochs, original_train_loss, 'b+', label='Original model')\n",
    "plt.plot(epochs, bigger_model_train_loss, 'bo', label='Bigger model')\n",
    "plt.xlabel('Epochs')\n",
    "plt.ylabel('Training loss')\n",
    "plt.legend()\n",
    "\n",
    "plt.show()"
   ]
  },
  {
   "cell_type": "markdown",
   "metadata": {},
   "source": [
    "As you can see, the bigger network gets its training loss near zero very quickly. The more capacity the network has, the quicker it will be \n",
    "able to model the training data (resulting in a low training loss), but the more susceptible it is to overfitting (resulting in a large \n",
    "difference between the training and validation loss)."
   ]
  },
  {
   "cell_type": "markdown",
   "metadata": {},
   "source": [
    "## Adding weight regularization\n",
    "\n",
    "\n",
    "You may be familiar with _Occam's Razor_ principle: given two explanations for something, the explanation most likely to be correct is the \n",
    "\"simplest\" one, the one that makes the least amount of assumptions. This also applies to the models learned by neural networks: given some \n",
    "training data and a network architecture, there are multiple sets of weights values (multiple _models_) that could explain the data, and \n",
    "simpler models are less likely to overfit than complex ones.\n",
    "\n",
    "A \"simple model\" in this context is a model where the distribution of parameter values has less entropy (or a model with fewer \n",
    "parameters altogether, as we saw in the section above). Thus a common way to mitigate overfitting is to put constraints on the complexity \n",
    "of a network by forcing its weights to only take small values, which makes the distribution of weight values more \"regular\". This is called \n",
    "\"weight regularization\", and it is done by adding to the loss function of the network a _cost_ associated with having large weights. This \n",
    "cost comes in two flavors:\n",
    "\n",
    "* L1 regularization, where the cost added is proportional to the _absolute value of the weights coefficients_ (i.e. to what is called the \n",
    "\"L1 norm\" of the weights).\n",
    "* L2 regularization, where the cost added is proportional to the _square of the value of the weights coefficients_ (i.e. to what is called \n",
    "the \"L2 norm\" of the weights). L2 regularization is also called _weight decay_ in the context of neural networks. Don't let the different \n",
    "name confuse you: weight decay is mathematically the exact same as L2 regularization.\n",
    "\n",
    "In Keras, weight regularization is added by passing _weight regularizer instances_ to layers as keyword arguments. Let's add L2 weight \n",
    "regularization to our movie review classification network:"
   ]
  },
  {
   "cell_type": "code",
   "execution_count": 13,
   "metadata": {},
   "outputs": [],
   "source": [
    "from keras import regularizers\n",
    "\n",
    "l2_model = models.Sequential()\n",
    "l2_model.add(layers.Dense(16, kernel_regularizer=regularizers.l2(0.001),\n",
    "                          activation='relu', input_shape=(10000,)))\n",
    "l2_model.add(layers.Dense(16, kernel_regularizer=regularizers.l2(0.001),\n",
    "                          activation='relu'))\n",
    "l2_model.add(layers.Dense(1, activation='sigmoid'))"
   ]
  },
  {
   "cell_type": "code",
   "execution_count": 14,
   "metadata": {},
   "outputs": [],
   "source": [
    "l2_model.compile(optimizer='rmsprop',\n",
    "                 loss='binary_crossentropy',\n",
    "                 metrics=['acc'])"
   ]
  },
  {
   "cell_type": "markdown",
   "metadata": {},
   "source": [
    "`l2(0.001)` means that every coefficient in the weight matrix of the layer will add `0.001 * weight_coefficient_value` to the total loss of \n",
    "the network. Note that because this penalty is _only added at training time_, the loss for this network will be much higher at training \n",
    "than at test time.\n",
    "\n",
    "Here's the impact of our L2 regularization penalty:"
   ]
  },
  {
   "cell_type": "code",
   "execution_count": 15,
   "metadata": {},
   "outputs": [
    {
     "name": "stdout",
     "output_type": "stream",
     "text": [
      "Epoch 1/20\n",
      "49/49 [==============================] - 2s 35ms/step - loss: 0.5964 - acc: 0.7393 - val_loss: 0.4075 - val_acc: 0.8618\n",
      "Epoch 2/20\n",
      "49/49 [==============================] - 1s 18ms/step - loss: 0.3360 - acc: 0.9016 - val_loss: 0.3420 - val_acc: 0.8866\n",
      "Epoch 3/20\n",
      "49/49 [==============================] - 1s 18ms/step - loss: 0.2702 - acc: 0.9245 - val_loss: 0.3326 - val_acc: 0.8884\n",
      "Epoch 4/20\n",
      "49/49 [==============================] - 1s 19ms/step - loss: 0.2492 - acc: 0.9308 - val_loss: 0.3462 - val_acc: 0.8815\n",
      "Epoch 5/20\n",
      "49/49 [==============================] - 1s 19ms/step - loss: 0.2354 - acc: 0.9347 - val_loss: 0.3864 - val_acc: 0.8662\n",
      "Epoch 6/20\n",
      "49/49 [==============================] - 1s 19ms/step - loss: 0.2325 - acc: 0.9363 - val_loss: 0.3466 - val_acc: 0.8832\n",
      "Epoch 7/20\n",
      "49/49 [==============================] - 1s 19ms/step - loss: 0.2118 - acc: 0.9457 - val_loss: 0.3733 - val_acc: 0.8740\n",
      "Epoch 8/20\n",
      "49/49 [==============================] - 1s 19ms/step - loss: 0.2085 - acc: 0.9474 - val_loss: 0.3673 - val_acc: 0.8768\n",
      "Epoch 9/20\n",
      "49/49 [==============================] - 1s 19ms/step - loss: 0.2114 - acc: 0.9439 - val_loss: 0.3680 - val_acc: 0.8778\n",
      "Epoch 10/20\n",
      "49/49 [==============================] - 1s 19ms/step - loss: 0.2018 - acc: 0.9483 - val_loss: 0.3713 - val_acc: 0.8762\n",
      "Epoch 11/20\n",
      "49/49 [==============================] - 1s 19ms/step - loss: 0.2051 - acc: 0.9464 - val_loss: 0.3859 - val_acc: 0.8735\n",
      "Epoch 12/20\n",
      "49/49 [==============================] - 1s 19ms/step - loss: 0.1938 - acc: 0.9509 - val_loss: 0.3955 - val_acc: 0.8718\n",
      "Epoch 13/20\n",
      "49/49 [==============================] - 1s 19ms/step - loss: 0.1912 - acc: 0.9545 - val_loss: 0.3890 - val_acc: 0.8722\n",
      "Epoch 14/20\n",
      "49/49 [==============================] - 1s 19ms/step - loss: 0.1888 - acc: 0.9553 - val_loss: 0.3938 - val_acc: 0.8721\n",
      "Epoch 15/20\n",
      "49/49 [==============================] - 1s 19ms/step - loss: 0.1942 - acc: 0.9505 - val_loss: 0.3968 - val_acc: 0.8726\n",
      "Epoch 16/20\n",
      "49/49 [==============================] - 1s 20ms/step - loss: 0.1796 - acc: 0.9592 - val_loss: 0.4215 - val_acc: 0.8654\n",
      "Epoch 17/20\n",
      "49/49 [==============================] - 1s 20ms/step - loss: 0.1821 - acc: 0.9581 - val_loss: 0.4198 - val_acc: 0.8658\n",
      "Epoch 18/20\n",
      "49/49 [==============================] - 1s 19ms/step - loss: 0.1779 - acc: 0.9566 - val_loss: 0.4070 - val_acc: 0.8692\n",
      "Epoch 19/20\n",
      "49/49 [==============================] - 1s 19ms/step - loss: 0.1750 - acc: 0.9593 - val_loss: 0.4106 - val_acc: 0.8676\n",
      "Epoch 20/20\n",
      "49/49 [==============================] - 1s 20ms/step - loss: 0.1718 - acc: 0.9598 - val_loss: 0.4125 - val_acc: 0.8681\n"
     ]
    }
   ],
   "source": [
    "l2_model_hist = l2_model.fit(x_train, y_train,\n",
    "                             epochs=20,\n",
    "                             batch_size=512,\n",
    "                             validation_data=(x_test, y_test))"
   ]
  },
  {
   "cell_type": "code",
   "execution_count": 16,
   "metadata": {},
   "outputs": [
    {
     "data": {
      "image/png": "[encoded data removed]",
      "text/plain": [
       "<Figure size 432x288 with 1 Axes>"
      ]
     },
     "metadata": {
      "needs_background": "light"
     },
     "output_type": "display_data"
    }
   ],
   "source": [
    "l2_model_val_loss = l2_model_hist.history['val_loss']\n",
    "\n",
    "plt.plot(epochs, original_val_loss, 'b+', label='Original model')\n",
    "plt.plot(epochs, l2_model_val_loss, 'bo', label='L2-regularized model')\n",
    "plt.xlabel('Epochs')\n",
    "plt.ylabel('Validation loss')\n",
    "plt.legend()\n",
    "\n",
    "plt.show()"
   ]
  },
  {
   "cell_type": "markdown",
   "metadata": {},
   "source": [
    "\n",
    "\n",
    "As you can see, the model with L2 regularization (dots) has become much more resistant to overfitting than the reference model (crosses), \n",
    "even though both models have the same number of parameters.\n",
    "\n",
    "As alternatives to L2 regularization, you could use one of the following Keras weight regularizers:"
   ]
  },
  {
   "cell_type": "code",
   "execution_count": 17,
   "metadata": {},
   "outputs": [
    {
     "data": {
      "text/plain": [
       "<tensorflow.python.keras.regularizers.L1L2 at 0x7f7be77a40a0>"
      ]
     },
     "execution_count": 17,
     "metadata": {},
     "output_type": "execute_result"
    }
   ],
   "source": [
    "from keras import regularizers\n",
    "\n",
    "# L1 regularization\n",
    "regularizers.l1(0.001)\n",
    "\n",
    "# L1 and L2 regularization at the same time\n",
    "regularizers.l1_l2(l1=0.001, l2=0.001)"
   ]
  },
  {
   "cell_type": "markdown",
   "metadata": {},
   "source": [
    "## Adding dropout\n",
    "\n",
    "\n",
    "Dropout is one of the most effective and most commonly used regularization techniques for neural networks, developed by Hinton and his \n",
    "students at the University of Toronto. Dropout, applied to a layer, consists of randomly \"dropping out\" (i.e. setting to zero) a number of \n",
    "output features of the layer during training. Let's say a given layer would normally have returned a vector `[0.2, 0.5, 1.3, 0.8, 1.1]` for a \n",
    "given input sample during training; after applying dropout, this vector will have a few zero entries distributed at random, e.g. `[0, 0.5, \n",
    "1.3, 0, 1.1]`. The \"dropout rate\" is the fraction of the features that are being zeroed-out; it is usually set between 0.2 and 0.5. At test \n",
    "time, no units are dropped out, and instead the layer's output values are scaled down by a factor equal to the dropout rate, so as to \n",
    "balance for the fact that more units are active than at training time.\n",
    "\n",
    "Consider a Numpy matrix containing the output of a layer, `layer_output`, of shape `(batch_size, features)`. At training time, we would be \n",
    "zero-ing out at random a fraction of the values in the matrix:"
   ]
  },
  {
   "cell_type": "code",
   "execution_count": 18,
   "metadata": {},
   "outputs": [
    {
     "ename": "NameError",
     "evalue": "name 'layer_output' is not defined",
     "output_type": "error",
     "traceback": [
      "\u001b[0;31m---------------------------------------------------------------------------\u001b[0m",
      "\u001b[0;31mNameError\u001b[0m                                 Traceback (most recent call last)",
      "\u001b[0;32m<ipython-input-18-f1f187ff4a2c>\u001b[0m in \u001b[0;36m<module>\u001b[0;34m\u001b[0m\n\u001b[1;32m      1\u001b[0m \u001b[0;31m# At training time: we drop out 50% of the units in the output\u001b[0m\u001b[0;34m\u001b[0m\u001b[0;34m\u001b[0m\u001b[0;34m\u001b[0m\u001b[0m\n\u001b[0;32m----> 2\u001b[0;31m \u001b[0mlayer_output\u001b[0m \u001b[0;34m*=\u001b[0m \u001b[0mnp\u001b[0m\u001b[0;34m.\u001b[0m\u001b[0mrandint\u001b[0m\u001b[0;34m(\u001b[0m\u001b[0;36m0\u001b[0m\u001b[0;34m,\u001b[0m \u001b[0mhigh\u001b[0m\u001b[0;34m=\u001b[0m\u001b[0;36m2\u001b[0m\u001b[0;34m,\u001b[0m \u001b[0msize\u001b[0m\u001b[0;34m=\u001b[0m\u001b[0mlayer_output\u001b[0m\u001b[0;34m.\u001b[0m\u001b[0mshape\u001b[0m\u001b[0;34m)\u001b[0m\u001b[0;34m\u001b[0m\u001b[0;34m\u001b[0m\u001b[0m\n\u001b[0m",
      "\u001b[0;31mNameError\u001b[0m: name 'layer_output' is not defined"
     ]
    }
   ],
   "source": [
    "# At training time: we drop out 50% of the units in the output\n",
    "layer_output *= np.randint(0, high=2, size=layer_output.shape)"
   ]
  },
  {
   "cell_type": "markdown",
   "metadata": {},
   "source": [
    "\n",
    "At test time, we would be scaling the output down by the dropout rate. Here we scale by 0.5 (because we were previous dropping half the \n",
    "units):"
   ]
  },
  {
   "cell_type": "code",
   "execution_count": 19,
   "metadata": {},
   "outputs": [
    {
     "ename": "NameError",
     "evalue": "name 'layer_output' is not defined",
     "output_type": "error",
     "traceback": [
      "\u001b[0;31m---------------------------------------------------------------------------\u001b[0m",
      "\u001b[0;31mNameError\u001b[0m                                 Traceback (most recent call last)",
      "\u001b[0;32m<ipython-input-19-bfeb0a27d9eb>\u001b[0m in \u001b[0;36m<module>\u001b[0;34m\u001b[0m\n\u001b[1;32m      1\u001b[0m \u001b[0;31m# At test time:\u001b[0m\u001b[0;34m\u001b[0m\u001b[0;34m\u001b[0m\u001b[0;34m\u001b[0m\u001b[0m\n\u001b[0;32m----> 2\u001b[0;31m \u001b[0mlayer_output\u001b[0m \u001b[0;34m*=\u001b[0m \u001b[0;36m0.5\u001b[0m\u001b[0;34m\u001b[0m\u001b[0;34m\u001b[0m\u001b[0m\n\u001b[0m",
      "\u001b[0;31mNameError\u001b[0m: name 'layer_output' is not defined"
     ]
    }
   ],
   "source": [
    "# At test time:\n",
    "layer_output *= 0.5"
   ]
  },
  {
   "cell_type": "markdown",
   "metadata": {},
   "source": [
    "\n",
    "Note that this process can be implemented by doing both operations at training time and leaving the output unchanged at test time, which is \n",
    "often the way it is implemented in practice:"
   ]
  },
  {
   "cell_type": "code",
   "execution_count": 20,
   "metadata": {},
   "outputs": [
    {
     "ename": "NameError",
     "evalue": "name 'layer_output' is not defined",
     "output_type": "error",
     "traceback": [
      "\u001b[0;31m---------------------------------------------------------------------------\u001b[0m",
      "\u001b[0;31mNameError\u001b[0m                                 Traceback (most recent call last)",
      "\u001b[0;32m<ipython-input-20-e035a3ac027e>\u001b[0m in \u001b[0;36m<module>\u001b[0;34m\u001b[0m\n\u001b[1;32m      1\u001b[0m \u001b[0;31m# At training time:\u001b[0m\u001b[0;34m\u001b[0m\u001b[0;34m\u001b[0m\u001b[0;34m\u001b[0m\u001b[0m\n\u001b[0;32m----> 2\u001b[0;31m \u001b[0mlayer_output\u001b[0m \u001b[0;34m*=\u001b[0m \u001b[0mnp\u001b[0m\u001b[0;34m.\u001b[0m\u001b[0mrandint\u001b[0m\u001b[0;34m(\u001b[0m\u001b[0;36m0\u001b[0m\u001b[0;34m,\u001b[0m \u001b[0mhigh\u001b[0m\u001b[0;34m=\u001b[0m\u001b[0;36m2\u001b[0m\u001b[0;34m,\u001b[0m \u001b[0msize\u001b[0m\u001b[0;34m=\u001b[0m\u001b[0mlayer_output\u001b[0m\u001b[0;34m.\u001b[0m\u001b[0mshape\u001b[0m\u001b[0;34m)\u001b[0m\u001b[0;34m\u001b[0m\u001b[0;34m\u001b[0m\u001b[0m\n\u001b[0m\u001b[1;32m      3\u001b[0m \u001b[0;31m# Note that we are scaling *up* rather scaling *down* in this case\u001b[0m\u001b[0;34m\u001b[0m\u001b[0;34m\u001b[0m\u001b[0;34m\u001b[0m\u001b[0m\n\u001b[1;32m      4\u001b[0m \u001b[0mlayer_output\u001b[0m \u001b[0;34m/=\u001b[0m \u001b[0;36m0.5\u001b[0m\u001b[0;34m\u001b[0m\u001b[0;34m\u001b[0m\u001b[0m\n",
      "\u001b[0;31mNameError\u001b[0m: name 'layer_output' is not defined"
     ]
    }
   ],
   "source": [
    "# At training time:\n",
    "layer_output *= np.randint(0, high=2, size=layer_output.shape)\n",
    "# Note that we are scaling *up* rather scaling *down* in this case\n",
    "layer_output /= 0.5"
   ]
  },
  {
   "cell_type": "markdown",
   "metadata": {},
   "source": [
    "\n",
    "This technique may seem strange and arbitrary. Why would this help reduce overfitting? Geoff Hinton has said that he was inspired, among \n",
    "other things, by a fraud prevention mechanism used by banks -- in his own words: _\"I went to my bank. The tellers kept changing and I asked \n",
    "one of them why. He said he didn’t know but they got moved around a lot. I figured it must be because it would require cooperation \n",
    "between employees to successfully defraud the bank. This made me realize that randomly removing a different subset of neurons on each \n",
    "example would prevent conspiracies and thus reduce overfitting\"_.\n",
    "\n",
    "The core idea is that introducing noise in the output values of a layer can break up happenstance patterns that are not significant (what \n",
    "Hinton refers to as \"conspiracies\"), which the network would start memorizing if no noise was present. \n",
    "\n",
    "In Keras you can introduce dropout in a network via the `Dropout` layer, which gets applied to the output of layer right before it, e.g.:"
   ]
  },
  {
   "cell_type": "code",
   "execution_count": 21,
   "metadata": {},
   "outputs": [
    {
     "ename": "NameError",
     "evalue": "name 'model' is not defined",
     "output_type": "error",
     "traceback": [
      "\u001b[0;31m---------------------------------------------------------------------------\u001b[0m",
      "\u001b[0;31mNameError\u001b[0m                                 Traceback (most recent call last)",
      "\u001b[0;32m<ipython-input-21-65ed89de200e>\u001b[0m in \u001b[0;36m<module>\u001b[0;34m\u001b[0m\n\u001b[0;32m----> 1\u001b[0;31m \u001b[0mmodel\u001b[0m\u001b[0;34m.\u001b[0m\u001b[0madd\u001b[0m\u001b[0;34m(\u001b[0m\u001b[0mlayers\u001b[0m\u001b[0;34m.\u001b[0m\u001b[0mDropout\u001b[0m\u001b[0;34m(\u001b[0m\u001b[0;36m0.5\u001b[0m\u001b[0;34m)\u001b[0m\u001b[0;34m)\u001b[0m\u001b[0;34m\u001b[0m\u001b[0;34m\u001b[0m\u001b[0m\n\u001b[0m",
      "\u001b[0;31mNameError\u001b[0m: name 'model' is not defined"
     ]
    }
   ],
   "source": [
    "model.add(layers.Dropout(0.5))"
   ]
  },
  {
   "cell_type": "markdown",
   "metadata": {},
   "source": [
    "Let's add two `Dropout` layers in our IMDB network to see how well they do at reducing overfitting:"
   ]
  },
  {
   "cell_type": "code",
   "execution_count": 22,
   "metadata": {},
   "outputs": [],
   "source": [
    "dpt_model = models.Sequential()\n",
    "dpt_model.add(layers.Dense(16, activation='relu', input_shape=(10000,)))\n",
    "dpt_model.add(layers.Dropout(0.5))\n",
    "dpt_model.add(layers.Dense(16, activation='relu'))\n",
    "dpt_model.add(layers.Dropout(0.5))\n",
    "dpt_model.add(layers.Dense(1, activation='sigmoid'))\n",
    "\n",
    "dpt_model.compile(optimizer='rmsprop',\n",
    "                  loss='binary_crossentropy',\n",
    "                  metrics=['acc'])"
   ]
  },
  {
   "cell_type": "code",
   "execution_count": 23,
   "metadata": {},
   "outputs": [
    {
     "name": "stdout",
     "output_type": "stream",
     "text": [
      "Epoch 1/20\n",
      "49/49 [==============================] - 2s 37ms/step - loss: 0.6304 - acc: 0.6274 - val_loss: 0.4221 - val_acc: 0.8711\n",
      "Epoch 2/20\n",
      "49/49 [==============================] - 1s 19ms/step - loss: 0.4479 - acc: 0.8112 - val_loss: 0.3198 - val_acc: 0.8836\n",
      "Epoch 3/20\n",
      "49/49 [==============================] - 1s 19ms/step - loss: 0.3512 - acc: 0.8666 - val_loss: 0.2854 - val_acc: 0.8890\n",
      "Epoch 4/20\n",
      "49/49 [==============================] - 1s 19ms/step - loss: 0.3003 - acc: 0.8954 - val_loss: 0.2759 - val_acc: 0.8903\n",
      "Epoch 5/20\n",
      "49/49 [==============================] - 1s 19ms/step - loss: 0.2583 - acc: 0.9094 - val_loss: 0.2767 - val_acc: 0.8888\n",
      "Epoch 6/20\n",
      "49/49 [==============================] - 1s 19ms/step - loss: 0.2233 - acc: 0.9257 - val_loss: 0.2877 - val_acc: 0.8868\n",
      "Epoch 7/20\n",
      "49/49 [==============================] - 1s 19ms/step - loss: 0.2072 - acc: 0.9280 - val_loss: 0.3068 - val_acc: 0.8822\n",
      "Epoch 8/20\n",
      "49/49 [==============================] - 1s 19ms/step - loss: 0.1856 - acc: 0.9379 - val_loss: 0.3242 - val_acc: 0.8829\n",
      "Epoch 9/20\n",
      "49/49 [==============================] - 1s 20ms/step - loss: 0.1730 - acc: 0.9432 - val_loss: 0.3498 - val_acc: 0.8814\n",
      "Epoch 10/20\n",
      "49/49 [==============================] - 1s 19ms/step - loss: 0.1588 - acc: 0.9458 - val_loss: 0.3718 - val_acc: 0.8826\n",
      "Epoch 11/20\n",
      "49/49 [==============================] - 1s 19ms/step - loss: 0.1490 - acc: 0.9482 - val_loss: 0.3790 - val_acc: 0.8804\n",
      "Epoch 12/20\n",
      "49/49 [==============================] - 1s 19ms/step - loss: 0.1324 - acc: 0.9564 - val_loss: 0.4276 - val_acc: 0.8668\n",
      "Epoch 13/20\n",
      "49/49 [==============================] - 1s 19ms/step - loss: 0.1311 - acc: 0.9556 - val_loss: 0.4557 - val_acc: 0.8768\n",
      "Epoch 14/20\n",
      "49/49 [==============================] - 1s 19ms/step - loss: 0.1192 - acc: 0.9603 - val_loss: 0.4519 - val_acc: 0.8754\n",
      "Epoch 15/20\n",
      "49/49 [==============================] - 1s 19ms/step - loss: 0.1172 - acc: 0.9599 - val_loss: 0.4981 - val_acc: 0.8646\n",
      "Epoch 16/20\n",
      "49/49 [==============================] - 1s 19ms/step - loss: 0.1168 - acc: 0.9584 - val_loss: 0.5038 - val_acc: 0.8766\n",
      "Epoch 17/20\n",
      "49/49 [==============================] - 1s 19ms/step - loss: 0.1177 - acc: 0.9617 - val_loss: 0.5212 - val_acc: 0.8756\n",
      "Epoch 18/20\n",
      "49/49 [==============================] - 1s 19ms/step - loss: 0.1145 - acc: 0.9646 - val_loss: 0.5421 - val_acc: 0.8726\n",
      "Epoch 19/20\n",
      "49/49 [==============================] - 1s 19ms/step - loss: 0.1136 - acc: 0.9620 - val_loss: 0.5465 - val_acc: 0.8730\n",
      "Epoch 20/20\n",
      "49/49 [==============================] - 1s 19ms/step - loss: 0.1048 - acc: 0.9663 - val_loss: 0.5933 - val_acc: 0.8676\n"
     ]
    }
   ],
   "source": [
    "dpt_model_hist = dpt_model.fit(x_train, y_train,\n",
    "                               epochs=20,\n",
    "                               batch_size=512,\n",
    "                               validation_data=(x_test, y_test))"
   ]
  },
  {
   "cell_type": "markdown",
   "metadata": {},
   "source": [
    "Let's plot the results:"
   ]
  },
  {
   "cell_type": "code",
   "execution_count": 24,
   "metadata": {},
   "outputs": [
    {
     "data": {
      "image/png": "[encoded data removed]",
      "text/plain": [
       "<Figure size 432x288 with 1 Axes>"
      ]
     },
     "metadata": {
      "needs_background": "light"
     },
     "output_type": "display_data"
    }
   ],
   "source": [
    "dpt_model_val_loss = dpt_model_hist.history['val_loss']\n",
    "\n",
    "plt.plot(epochs, original_val_loss, 'b+', label='Original model')\n",
    "plt.plot(epochs, dpt_model_val_loss, 'bo', label='Dropout-regularized model')\n",
    "plt.xlabel('Epochs')\n",
    "plt.ylabel('Validation loss')\n",
    "plt.legend()\n",
    "\n",
    "plt.show()"
   ]
  },
  {
   "cell_type": "markdown",
   "metadata": {},
   "source": [
    "\n",
    "Again, a clear improvement over the reference network.\n",
    "\n",
    "To recap: here the most common ways to prevent overfitting in neural networks:\n",
    "\n",
    "* Getting more training data.\n",
    "* Reducing the capacity of the network.\n",
    "* Adding weight regularization.\n",
    "* Adding dropout."
   ]
  }
 ],
 "metadata": {
  "kernelspec": {
   "display_name": "Python 3",
   "language": "python",
   "name": "python3"
  },
  "language_info": {
   "codemirror_mode": {
    "name": "ipython",
    "version": 3
   },
   "file_extension": ".py",
   "mimetype": "text/x-python",
   "name": "python",
   "nbconvert_exporter": "python",
   "pygments_lexer": "ipython3",
   "version": "3.8.5"
  }
 },
 "nbformat": 4,
 "nbformat_minor": 2
}
