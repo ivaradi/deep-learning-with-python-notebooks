{
 "cells": [
  {
   "cell_type": "code",
   "execution_count": 1,
   "metadata": {},
   "outputs": [
    {
     "data": {
      "text/plain": [
       "'2.4.3'"
      ]
     },
     "execution_count": 1,
     "metadata": {},
     "output_type": "execute_result"
    }
   ],
   "source": [
    "import keras\n",
    "keras.__version__"
   ]
  },
  {
   "cell_type": "markdown",
   "metadata": {},
   "source": [
    "# Introduction to generative adversarial networks\n",
    "\n",
    "This notebook contains the second code sample found in Chapter 8, Section 5 of [Deep Learning with Python](https://www.manning.com/books/deep-learning-with-python?a_aid=keras&a_bid=76564dff). Note that the original text features far more content, in particular further explanations and figures: in this notebook, you will only find source code and related comments.\n",
    "\n",
    "---\n",
    "[...]"
   ]
  },
  {
   "cell_type": "markdown",
   "metadata": {},
   "source": [
    "## A schematic GAN implementation\n",
    "\n",
    "\n",
    "In what follows, we explain how to implement a GAN in Keras, in its barest form -- since GANs are quite advanced, diving deeply into the \n",
    "technical details would be out of scope for us. Our specific implementation will be a deep convolutional GAN, or DCGAN: a GAN where the \n",
    "generator and discriminator are deep convnets. In particular, it leverages a `Conv2DTranspose` layer for image upsampling in the generator.\n",
    "\n",
    "We will train our GAN on images from CIFAR10, a dataset of 50,000 32x32 RGB images belong to 10 classes (5,000 images per class). To make \n",
    "things even easier, we will only use images belonging to the class \"frog\".\n",
    "\n",
    "Schematically, our GAN looks like this:\n",
    "\n",
    "* A `generator` network maps vectors of shape `(latent_dim,)` to images of shape `(32, 32, 3)`.\n",
    "* A `discriminator` network maps images of shape (32, 32, 3) to a binary score estimating the probability that the image is real.\n",
    "* A `gan` network chains the generator and the discriminator together: `gan(x) = discriminator(generator(x))`. Thus this `gan` network maps \n",
    "latent space vectors to the discriminator's assessment of the realism of these latent vectors as decoded by the generator.\n",
    "* We train the discriminator using examples of real and fake images along with \"real\"/\"fake\" labels, as we would train any regular image \n",
    "classification model.\n",
    "* To train the generator, we use the gradients of the generator's weights with regard to the loss of the `gan` model. This means that, at \n",
    "every step, we move the weights of the generator in a direction that will make the discriminator more likely to classify as \"real\" the \n",
    "images decoded by the generator. I.e. we train the generator to fool the discriminator."
   ]
  },
  {
   "cell_type": "markdown",
   "metadata": {},
   "source": [
    "## A bag of tricks\n",
    "\n",
    "\n",
    "Training GANs and tuning GAN implementations is notoriously difficult. There are a number of known \"tricks\" that one should keep in mind. \n",
    "Like most things in deep learning, it is more alchemy than science: these tricks are really just heuristics, not theory-backed guidelines. \n",
    "They are backed by some level of intuitive understanding of the phenomenon at hand, and they are known to work well empirically, albeit not \n",
    "necessarily in every context.\n",
    "\n",
    "Here are a few of the tricks that we leverage in our own implementation of a GAN generator and discriminator below. It is not an exhaustive \n",
    "list of GAN-related tricks; you will find many more across the GAN literature.\n",
    "\n",
    "* We use `tanh` as the last activation in the generator, instead of `sigmoid`, which would be more commonly found in other types of models.\n",
    "* We sample points from the latent space using a _normal distribution_ (Gaussian distribution), not a uniform distribution.\n",
    "* Stochasticity is good to induce robustness. Since GAN training results in a dynamic equilibrium, GANs are likely to get \"stuck\" in all sorts of ways. \n",
    "Introducing randomness during training helps prevent this. We introduce randomness in two ways: 1) we use dropout in the discriminator, 2) \n",
    "we add some random noise to the labels for the discriminator.\n",
    "* Sparse gradients can hinder GAN training. In deep learning, sparsity is often a desirable property, but not in GANs. There are two things \n",
    "that can induce gradient sparsity: 1) max pooling operations, 2) ReLU activations. Instead of max pooling, we recommend using strided \n",
    "convolutions for downsampling, and we recommend using a `LeakyReLU` layer instead of a ReLU activation. It is similar to ReLU but it \n",
    "relaxes sparsity constraints by allowing small negative activation values.\n",
    "* In generated images, it is common to see \"checkerboard artifacts\" caused by unequal coverage of the pixel space in the generator. To fix \n",
    "this, we use a kernel size that is divisible by the stride size, whenever we use a strided `Conv2DTranpose` or `Conv2D` in both the \n",
    "generator and discriminator."
   ]
  },
  {
   "cell_type": "markdown",
   "metadata": {},
   "source": [
    "## The generator\n",
    "\n",
    "\n",
    "First, we develop a `generator` model, which turns a vector (from the latent space -- during training it will sampled at random) into a \n",
    "candidate image. One of the many issues that commonly arise with GANs is that the generator gets stuck with generated images that look like \n",
    "noise. A possible solution is to use dropout on both the discriminator and generator."
   ]
  },
  {
   "cell_type": "code",
   "execution_count": 2,
   "metadata": {},
   "outputs": [
    {
     "name": "stdout",
     "output_type": "stream",
     "text": [
      "Model: \"model\"\n",
      "_________________________________________________________________\n",
      "Layer (type)                 Output Shape              Param #   \n",
      "=================================================================\n",
      "input_1 (InputLayer)         [(None, 32)]              0         \n",
      "_________________________________________________________________\n",
      "dense (Dense)                (None, 32768)             1081344   \n",
      "_________________________________________________________________\n",
      "leaky_re_lu (LeakyReLU)      (None, 32768)             0         \n",
      "_________________________________________________________________\n",
      "reshape (Reshape)            (None, 16, 16, 128)       0         \n",
      "_________________________________________________________________\n",
      "conv2d (Conv2D)              (None, 16, 16, 256)       819456    \n",
      "_________________________________________________________________\n",
      "leaky_re_lu_1 (LeakyReLU)    (None, 16, 16, 256)       0         \n",
      "_________________________________________________________________\n",
      "conv2d_transpose (Conv2DTran (None, 32, 32, 256)       1048832   \n",
      "_________________________________________________________________\n",
      "leaky_re_lu_2 (LeakyReLU)    (None, 32, 32, 256)       0         \n",
      "_________________________________________________________________\n",
      "conv2d_1 (Conv2D)            (None, 32, 32, 256)       1638656   \n",
      "_________________________________________________________________\n",
      "leaky_re_lu_3 (LeakyReLU)    (None, 32, 32, 256)       0         \n",
      "_________________________________________________________________\n",
      "conv2d_2 (Conv2D)            (None, 32, 32, 256)       1638656   \n",
      "_________________________________________________________________\n",
      "leaky_re_lu_4 (LeakyReLU)    (None, 32, 32, 256)       0         \n",
      "_________________________________________________________________\n",
      "conv2d_3 (Conv2D)            (None, 32, 32, 3)         37635     \n",
      "=================================================================\n",
      "Total params: 6,264,579\n",
      "Trainable params: 6,264,579\n",
      "Non-trainable params: 0\n",
      "_________________________________________________________________\n"
     ]
    }
   ],
   "source": [
    "import keras\n",
    "from keras import layers\n",
    "import numpy as np\n",
    "\n",
    "latent_dim = 32\n",
    "height = 32\n",
    "width = 32\n",
    "channels = 3\n",
    "\n",
    "generator_input = keras.Input(shape=(latent_dim,))\n",
    "\n",
    "# First, transform the input into a 16x16 128-channels feature map\n",
    "x = layers.Dense(128 * 16 * 16)(generator_input)\n",
    "x = layers.LeakyReLU()(x)\n",
    "x = layers.Reshape((16, 16, 128))(x)\n",
    "\n",
    "# Then, add a convolution layer\n",
    "x = layers.Conv2D(256, 5, padding='same')(x)\n",
    "x = layers.LeakyReLU()(x)\n",
    "\n",
    "# Upsample to 32x32\n",
    "x = layers.Conv2DTranspose(256, 4, strides=2, padding='same')(x)\n",
    "x = layers.LeakyReLU()(x)\n",
    "\n",
    "# Few more conv layers\n",
    "x = layers.Conv2D(256, 5, padding='same')(x)\n",
    "x = layers.LeakyReLU()(x)\n",
    "x = layers.Conv2D(256, 5, padding='same')(x)\n",
    "x = layers.LeakyReLU()(x)\n",
    "\n",
    "# Produce a 32x32 1-channel feature map\n",
    "x = layers.Conv2D(channels, 7, activation='tanh', padding='same')(x)\n",
    "generator = keras.models.Model(generator_input, x)\n",
    "generator.summary()"
   ]
  },
  {
   "cell_type": "markdown",
   "metadata": {},
   "source": [
    "## The discriminator\n",
    "\n",
    "\n",
    "Then, we develop a `discriminator` model, that takes as input a candidate image (real or synthetic) and classifies it into one of two \n",
    "classes, either \"generated image\" or \"real image that comes from the training set\"."
   ]
  },
  {
   "cell_type": "code",
   "execution_count": 3,
   "metadata": {},
   "outputs": [
    {
     "name": "stdout",
     "output_type": "stream",
     "text": [
      "Model: \"model_1\"\n",
      "_________________________________________________________________\n",
      "Layer (type)                 Output Shape              Param #   \n",
      "=================================================================\n",
      "input_2 (InputLayer)         [(None, 32, 32, 3)]       0         \n",
      "_________________________________________________________________\n",
      "conv2d_4 (Conv2D)            (None, 30, 30, 128)       3584      \n",
      "_________________________________________________________________\n",
      "leaky_re_lu_5 (LeakyReLU)    (None, 30, 30, 128)       0         \n",
      "_________________________________________________________________\n",
      "conv2d_5 (Conv2D)            (None, 14, 14, 128)       262272    \n",
      "_________________________________________________________________\n",
      "leaky_re_lu_6 (LeakyReLU)    (None, 14, 14, 128)       0         \n",
      "_________________________________________________________________\n",
      "conv2d_6 (Conv2D)            (None, 6, 6, 128)         262272    \n",
      "_________________________________________________________________\n",
      "leaky_re_lu_7 (LeakyReLU)    (None, 6, 6, 128)         0         \n",
      "_________________________________________________________________\n",
      "conv2d_7 (Conv2D)            (None, 2, 2, 128)         262272    \n",
      "_________________________________________________________________\n",
      "leaky_re_lu_8 (LeakyReLU)    (None, 2, 2, 128)         0         \n",
      "_________________________________________________________________\n",
      "flatten (Flatten)            (None, 512)               0         \n",
      "_________________________________________________________________\n",
      "dropout (Dropout)            (None, 512)               0         \n",
      "_________________________________________________________________\n",
      "dense_1 (Dense)              (None, 1)                 513       \n",
      "=================================================================\n",
      "Total params: 790,913\n",
      "Trainable params: 790,913\n",
      "Non-trainable params: 0\n",
      "_________________________________________________________________\n"
     ]
    }
   ],
   "source": [
    "discriminator_input = layers.Input(shape=(height, width, channels))\n",
    "x = layers.Conv2D(128, 3)(discriminator_input)\n",
    "x = layers.LeakyReLU()(x)\n",
    "x = layers.Conv2D(128, 4, strides=2)(x)\n",
    "x = layers.LeakyReLU()(x)\n",
    "x = layers.Conv2D(128, 4, strides=2)(x)\n",
    "x = layers.LeakyReLU()(x)\n",
    "x = layers.Conv2D(128, 4, strides=2)(x)\n",
    "x = layers.LeakyReLU()(x)\n",
    "x = layers.Flatten()(x)\n",
    "\n",
    "# One dropout layer - important trick!\n",
    "x = layers.Dropout(0.4)(x)\n",
    "\n",
    "# Classification layer\n",
    "x = layers.Dense(1, activation='sigmoid')(x)\n",
    "\n",
    "discriminator = keras.models.Model(discriminator_input, x)\n",
    "discriminator.summary()\n",
    "\n",
    "# To stabilize training, we use learning rate decay\n",
    "# and gradient clipping (by value) in the optimizer.\n",
    "discriminator_optimizer = keras.optimizers.RMSprop(lr=0.0008, clipvalue=1.0, decay=1e-8)\n",
    "discriminator.compile(optimizer=discriminator_optimizer, loss='binary_crossentropy')"
   ]
  },
  {
   "cell_type": "markdown",
   "metadata": {},
   "source": [
    "## The adversarial network\n",
    "\n",
    "Finally, we setup the GAN, which chains the generator and the discriminator. This is the model that, when trained, will move the generator \n",
    "in a direction that improves its ability to fool the discriminator. This model turns latent space points into a classification decision, \n",
    "\"fake\" or \"real\", and it is meant to be trained with labels that are always \"these are real images\". So training `gan` will updates the \n",
    "weights of `generator` in a way that makes `discriminator` more likely to predict \"real\" when looking at fake images. Very importantly, we \n",
    "set the discriminator to be frozen during training (non-trainable): its weights will not be updated when training `gan`. If the \n",
    "discriminator weights could be updated during this process, then we would be training the discriminator to always predict \"real\", which is \n",
    "not what we want!"
   ]
  },
  {
   "cell_type": "code",
   "execution_count": 4,
   "metadata": {},
   "outputs": [],
   "source": [
    "# Set discriminator weights to non-trainable\n",
    "# (will only apply to the `gan` model)\n",
    "discriminator.trainable = False\n",
    "\n",
    "gan_input = keras.Input(shape=(latent_dim,))\n",
    "gan_output = discriminator(generator(gan_input))\n",
    "gan = keras.models.Model(gan_input, gan_output)\n",
    "\n",
    "gan_optimizer = keras.optimizers.RMSprop(lr=0.0004, clipvalue=1.0, decay=1e-8)\n",
    "gan.compile(optimizer=gan_optimizer, loss='binary_crossentropy')"
   ]
  },
  {
   "cell_type": "markdown",
   "metadata": {},
   "source": [
    "## How to train your DCGAN\n",
    "\n",
    "Now we can start training. To recapitulate, this is schematically what the training loop looks like:\n",
    "\n",
    "```\n",
    "for each epoch:\n",
    "    * Draw random points in the latent space (random noise).\n",
    "    * Generate images with `generator` using this random noise.\n",
    "    * Mix the generated images with real ones.\n",
    "    * Train `discriminator` using these mixed images, with corresponding targets, either \"real\" (for the real images) or \"fake\" (for the generated images).\n",
    "    * Draw new random points in the latent space.\n",
    "    * Train `gan` using these random vectors, with targets that all say \"these are real images\". This will update the weights of the generator (only, since discriminator is frozen inside `gan`) to move them towards getting the discriminator to predict \"these are real images\" for generated images, i.e. this trains the generator to fool the discriminator.\n",
    "```\n",
    "\n",
    "Let's implement it:"
   ]
  },
  {
   "cell_type": "code",
   "execution_count": 5,
   "metadata": {},
   "outputs": [
    {
     "name": "stdout",
     "output_type": "stream",
     "text": [
      "Downloading data from https://www.cs.toronto.edu/~kriz/cifar-10-python.tar.gz\n",
      "170500096/170498071 [==============================] - 34s 0us/step\n",
      "discriminator loss at step 0: 0.6942602396011353\n",
      "adversarial loss at step 0: 0.6613767743110657\n",
      "discriminator loss at step 100: 0.7271597981452942\n",
      "adversarial loss at step 100: 0.7918897867202759\n",
      "discriminator loss at step 200: 0.6953399777412415\n",
      "adversarial loss at step 200: 0.8316364288330078\n",
      "discriminator loss at step 300: 0.6963754892349243\n",
      "adversarial loss at step 300: 0.7312416434288025\n",
      "discriminator loss at step 400: 0.6949494481086731\n",
      "adversarial loss at step 400: 0.7400720715522766\n",
      "discriminator loss at step 500: 0.7906944155693054\n",
      "adversarial loss at step 500: 0.7725173830986023\n",
      "discriminator loss at step 600: 0.7113463282585144\n",
      "adversarial loss at step 600: 0.7855095267295837\n",
      "discriminator loss at step 700: 0.7231859564781189\n",
      "adversarial loss at step 700: 0.7927875518798828\n",
      "discriminator loss at step 800: 0.7082816362380981\n",
      "adversarial loss at step 800: 0.7370364665985107\n",
      "discriminator loss at step 900: 0.7016765475273132\n",
      "adversarial loss at step 900: 0.7411127090454102\n",
      "discriminator loss at step 1000: 0.7119225859642029\n",
      "adversarial loss at step 1000: 0.7359663844108582\n",
      "discriminator loss at step 1100: 0.7036474943161011\n",
      "adversarial loss at step 1100: 0.7260977029800415\n",
      "discriminator loss at step 1200: 0.6980046629905701\n",
      "adversarial loss at step 1200: 0.7633023858070374\n",
      "discriminator loss at step 1300: 0.6888648271560669\n",
      "adversarial loss at step 1300: 0.7313639521598816\n",
      "discriminator loss at step 1400: 0.715479850769043\n",
      "adversarial loss at step 1400: 0.722814679145813\n",
      "discriminator loss at step 1500: 0.687538743019104\n",
      "adversarial loss at step 1500: 0.7863488793373108\n",
      "discriminator loss at step 1600: 0.6995725631713867\n",
      "adversarial loss at step 1600: 0.7003218531608582\n",
      "discriminator loss at step 1700: 0.6918494701385498\n",
      "adversarial loss at step 1700: 0.7997608184814453\n",
      "discriminator loss at step 1800: 0.6873254776000977\n",
      "adversarial loss at step 1800: 0.7515549063682556\n",
      "discriminator loss at step 1900: 0.695787787437439\n",
      "adversarial loss at step 1900: 0.9710696935653687\n",
      "discriminator loss at step 2000: 0.6796061992645264\n",
      "adversarial loss at step 2000: 0.7158092260360718\n",
      "discriminator loss at step 2100: 0.6911944150924683\n",
      "adversarial loss at step 2100: 0.7463523149490356\n",
      "discriminator loss at step 2200: 0.6847831606864929\n",
      "adversarial loss at step 2200: 0.6799209117889404\n",
      "discriminator loss at step 2300: 0.7114681601524353\n",
      "adversarial loss at step 2300: 0.7719599008560181\n",
      "discriminator loss at step 2400: 0.6899080276489258\n",
      "adversarial loss at step 2400: 0.7297686338424683\n",
      "discriminator loss at step 2500: 0.6814788579940796\n",
      "adversarial loss at step 2500: 0.7359681129455566\n",
      "discriminator loss at step 2600: 0.7161022424697876\n",
      "adversarial loss at step 2600: 0.742736279964447\n",
      "discriminator loss at step 2700: 0.691618800163269\n",
      "adversarial loss at step 2700: 0.7603670358657837\n",
      "discriminator loss at step 2800: 0.6870590448379517\n",
      "adversarial loss at step 2800: 0.7513132095336914\n",
      "discriminator loss at step 2900: 0.6921759247779846\n",
      "adversarial loss at step 2900: 0.7346259355545044\n",
      "discriminator loss at step 3000: 0.6850980520248413\n",
      "adversarial loss at step 3000: 0.7395089864730835\n",
      "discriminator loss at step 3100: 0.6916917562484741\n",
      "adversarial loss at step 3100: 0.7647580504417419\n",
      "discriminator loss at step 3200: 0.6850848197937012\n",
      "adversarial loss at step 3200: 0.7452964186668396\n",
      "discriminator loss at step 3300: 0.6838603019714355\n",
      "adversarial loss at step 3300: 0.8696451187133789\n",
      "discriminator loss at step 3400: 0.6945390701293945\n",
      "adversarial loss at step 3400: 0.7743208408355713\n",
      "discriminator loss at step 3500: 0.6849827766418457\n",
      "adversarial loss at step 3500: 0.7157867550849915\n",
      "discriminator loss at step 3600: 0.6942009925842285\n",
      "adversarial loss at step 3600: 0.7521898150444031\n",
      "discriminator loss at step 3700: 0.6868690252304077\n",
      "adversarial loss at step 3700: 0.7682720422744751\n",
      "discriminator loss at step 3800: 0.6951958537101746\n",
      "adversarial loss at step 3800: 0.8208218812942505\n",
      "discriminator loss at step 3900: 0.687556803226471\n",
      "adversarial loss at step 3900: 0.7247260212898254\n",
      "discriminator loss at step 4000: 0.7196992635726929\n",
      "adversarial loss at step 4000: 0.7810273766517639\n",
      "discriminator loss at step 4100: 0.6889125108718872\n",
      "adversarial loss at step 4100: 0.7379065752029419\n",
      "discriminator loss at step 4200: 0.6969121694564819\n",
      "adversarial loss at step 4200: 0.7390343546867371\n",
      "discriminator loss at step 4300: 0.6907757520675659\n",
      "adversarial loss at step 4300: 0.7438618540763855\n",
      "discriminator loss at step 4400: 0.6952277421951294\n",
      "adversarial loss at step 4400: 0.7864667773246765\n",
      "discriminator loss at step 4500: 0.6962870955467224\n",
      "adversarial loss at step 4500: 0.7746390700340271\n",
      "discriminator loss at step 4600: 0.6993146538734436\n",
      "adversarial loss at step 4600: 0.6034904718399048\n",
      "discriminator loss at step 4700: 0.6888402700424194\n",
      "adversarial loss at step 4700: 0.7136737108230591\n",
      "discriminator loss at step 4800: 0.7023053169250488\n",
      "adversarial loss at step 4800: 0.7471375465393066\n",
      "discriminator loss at step 4900: 0.6927582025527954\n",
      "adversarial loss at step 4900: 0.7157701253890991\n",
      "discriminator loss at step 5000: 0.69489586353302\n",
      "adversarial loss at step 5000: 0.7813578844070435\n",
      "discriminator loss at step 5100: 0.6874964833259583\n",
      "adversarial loss at step 5100: 0.7478052973747253\n",
      "discriminator loss at step 5200: 0.6975498795509338\n",
      "adversarial loss at step 5200: 0.749210000038147\n",
      "discriminator loss at step 5300: 0.7021204233169556\n",
      "adversarial loss at step 5300: 0.755449652671814\n",
      "discriminator loss at step 5400: 0.7221781015396118\n",
      "adversarial loss at step 5400: 0.8078428506851196\n",
      "discriminator loss at step 5500: 0.7026901245117188\n",
      "adversarial loss at step 5500: 0.7527216672897339\n",
      "discriminator loss at step 5600: 0.7252148389816284\n",
      "adversarial loss at step 5600: 0.7592355608940125\n",
      "discriminator loss at step 5700: 0.6705112457275391\n",
      "adversarial loss at step 5700: 0.21578724682331085\n",
      "discriminator loss at step 5800: 0.6993390321731567\n",
      "adversarial loss at step 5800: 0.7255064845085144\n",
      "discriminator loss at step 5900: 0.6986668705940247\n",
      "adversarial loss at step 5900: 0.7530187368392944\n",
      "discriminator loss at step 6000: 0.7084996700286865\n",
      "adversarial loss at step 6000: 0.8206726312637329\n",
      "discriminator loss at step 6100: 0.7003913521766663\n",
      "adversarial loss at step 6100: 0.7318137884140015\n",
      "discriminator loss at step 6200: 0.7149780988693237\n",
      "adversarial loss at step 6200: 0.7551590204238892\n",
      "discriminator loss at step 6300: 0.679282009601593\n",
      "adversarial loss at step 6300: 0.7552362680435181\n",
      "discriminator loss at step 6400: 0.6797805428504944\n",
      "adversarial loss at step 6400: 0.7597441077232361\n",
      "discriminator loss at step 6500: 0.6981635093688965\n",
      "adversarial loss at step 6500: 0.7645657062530518\n",
      "discriminator loss at step 6600: 0.711268961429596\n",
      "adversarial loss at step 6600: 0.859518826007843\n",
      "discriminator loss at step 6700: 0.7268658876419067\n",
      "adversarial loss at step 6700: 0.8384685516357422\n",
      "discriminator loss at step 6800: 0.6980201005935669\n",
      "adversarial loss at step 6800: 0.777775764465332\n",
      "discriminator loss at step 6900: 0.6895793676376343\n",
      "adversarial loss at step 6900: 0.6520528793334961\n",
      "discriminator loss at step 7000: 0.6589900255203247\n",
      "adversarial loss at step 7000: 0.9141472578048706\n",
      "discriminator loss at step 7100: 0.6710665822029114\n",
      "adversarial loss at step 7100: 0.6316253542900085\n",
      "discriminator loss at step 7200: 0.6808605194091797\n",
      "adversarial loss at step 7200: 0.897868275642395\n",
      "discriminator loss at step 7300: 0.6775738000869751\n",
      "adversarial loss at step 7300: 0.8366278409957886\n",
      "discriminator loss at step 7400: 0.6698185801506042\n",
      "adversarial loss at step 7400: 0.7946164011955261\n",
      "discriminator loss at step 7500: 0.6943471431732178\n",
      "adversarial loss at step 7500: 0.7980324029922485\n",
      "discriminator loss at step 7600: 0.6888821125030518\n",
      "adversarial loss at step 7600: 0.8247897028923035\n",
      "discriminator loss at step 7700: 0.6988503336906433\n",
      "adversarial loss at step 7700: 0.8371919393539429\n",
      "discriminator loss at step 7800: 0.6859305500984192\n",
      "adversarial loss at step 7800: 0.8117046356201172\n",
      "discriminator loss at step 7900: 0.6843328475952148\n",
      "adversarial loss at step 7900: 0.8415974378585815\n"
     ]
    },
    {
     "name": "stdout",
     "output_type": "stream",
     "text": [
      "discriminator loss at step 8000: 0.6662535071372986\n",
      "adversarial loss at step 8000: 0.7824506759643555\n",
      "discriminator loss at step 8100: 0.7411484718322754\n",
      "adversarial loss at step 8100: 0.7710169553756714\n",
      "discriminator loss at step 8200: 0.7115023732185364\n",
      "adversarial loss at step 8200: 1.029937744140625\n",
      "discriminator loss at step 8300: 0.7142959237098694\n",
      "adversarial loss at step 8300: 1.144626259803772\n",
      "discriminator loss at step 8400: 0.683133602142334\n",
      "adversarial loss at step 8400: 0.7192882299423218\n",
      "discriminator loss at step 8500: 0.8393532633781433\n",
      "adversarial loss at step 8500: 1.0714025497436523\n",
      "discriminator loss at step 8600: 0.6912052035331726\n",
      "adversarial loss at step 8600: 0.5130853056907654\n",
      "discriminator loss at step 8700: 0.7224855422973633\n",
      "adversarial loss at step 8700: 0.919755756855011\n",
      "discriminator loss at step 8800: 0.6692761778831482\n",
      "adversarial loss at step 8800: 0.79092937707901\n",
      "discriminator loss at step 8900: 0.6749802231788635\n",
      "adversarial loss at step 8900: 0.9243830442428589\n",
      "discriminator loss at step 9000: 0.6769789457321167\n",
      "adversarial loss at step 9000: 0.8713796734809875\n",
      "discriminator loss at step 9100: 0.6813462376594543\n",
      "adversarial loss at step 9100: 0.7384501695632935\n",
      "discriminator loss at step 9200: 0.7070428133010864\n",
      "adversarial loss at step 9200: 0.7945551872253418\n",
      "discriminator loss at step 9300: 0.6863582134246826\n",
      "adversarial loss at step 9300: 0.7903966903686523\n",
      "discriminator loss at step 9400: 0.64094078540802\n",
      "adversarial loss at step 9400: 0.6523412466049194\n",
      "discriminator loss at step 9500: 0.6911321878433228\n",
      "adversarial loss at step 9500: 0.807233452796936\n",
      "discriminator loss at step 9600: 0.6940335035324097\n",
      "adversarial loss at step 9600: 0.7846166491508484\n",
      "discriminator loss at step 9700: 0.6932092905044556\n",
      "adversarial loss at step 9700: 0.868719756603241\n",
      "discriminator loss at step 9800: 0.6808568835258484\n",
      "adversarial loss at step 9800: 0.783574640750885\n",
      "discriminator loss at step 9900: 0.6902378797531128\n",
      "adversarial loss at step 9900: 1.020822286605835\n"
     ]
    }
   ],
   "source": [
    "import os\n",
    "from keras.preprocessing import image\n",
    "\n",
    "# Load CIFAR10 data\n",
    "(x_train, y_train), (_, _) = keras.datasets.cifar10.load_data()\n",
    "\n",
    "# Select frog images (class 6)\n",
    "x_train = x_train[y_train.flatten() == 6]\n",
    "\n",
    "# Normalize data\n",
    "x_train = x_train.reshape(\n",
    "    (x_train.shape[0],) + (height, width, channels)).astype('float32') / 255.\n",
    "\n",
    "iterations = 10000\n",
    "batch_size = 20\n",
    "save_dir = '/home/vi/sources/nn/data/gan_images/'\n",
    "\n",
    "# Start training loop\n",
    "start = 0\n",
    "for step in range(iterations):\n",
    "    # Sample random points in the latent space\n",
    "    random_latent_vectors = np.random.normal(size=(batch_size, latent_dim))\n",
    "\n",
    "    # Decode them to fake images\n",
    "    generated_images = generator.predict(random_latent_vectors)\n",
    "\n",
    "    # Combine them with real images\n",
    "    stop = start + batch_size\n",
    "    real_images = x_train[start: stop]\n",
    "    combined_images = np.concatenate([generated_images, real_images])\n",
    "\n",
    "    # Assemble labels discriminating real from fake images\n",
    "    labels = np.concatenate([np.ones((batch_size, 1)),\n",
    "                             np.zeros((batch_size, 1))])\n",
    "    # Add random noise to the labels - important trick!\n",
    "    labels += 0.05 * np.random.random(labels.shape)\n",
    "\n",
    "    # Train the discriminator\n",
    "    d_loss = discriminator.train_on_batch(combined_images, labels)\n",
    "\n",
    "    # sample random points in the latent space\n",
    "    random_latent_vectors = np.random.normal(size=(batch_size, latent_dim))\n",
    "\n",
    "    # Assemble labels that say \"all real images\"\n",
    "    misleading_targets = np.zeros((batch_size, 1))\n",
    "\n",
    "    # Train the generator (via the gan model,\n",
    "    # where the discriminator weights are frozen)\n",
    "    a_loss = gan.train_on_batch(random_latent_vectors, misleading_targets)\n",
    "    \n",
    "    start += batch_size\n",
    "    if start > len(x_train) - batch_size:\n",
    "      start = 0\n",
    "\n",
    "    # Occasionally save / plot\n",
    "    if step % 100 == 0:\n",
    "        # Save model weights\n",
    "        gan.save_weights('gan.h5')\n",
    "\n",
    "        # Print metrics\n",
    "        print('discriminator loss at step %s: %s' % (step, d_loss))\n",
    "        print('adversarial loss at step %s: %s' % (step, a_loss))\n",
    "\n",
    "        # Save one generated image\n",
    "        img = image.array_to_img(generated_images[0] * 255., scale=False)\n",
    "        img.save(os.path.join(save_dir, 'generated_frog' + str(step) + '.png'))\n",
    "\n",
    "        # Save one real image, for comparison\n",
    "        img = image.array_to_img(real_images[0] * 255., scale=False)\n",
    "        img.save(os.path.join(save_dir, 'real_frog' + str(step) + '.png'))"
   ]
  },
  {
   "cell_type": "markdown",
   "metadata": {
    "collapsed": true
   },
   "source": [
    "Let's display a few of our fake images:"
   ]
  },
  {
   "cell_type": "code",
   "execution_count": 6,
   "metadata": {},
   "outputs": [
    {
     "data": {
      "image/png": "[encoded data removed]",
      "text/plain": [
       "<Figure size 432x288 with 1 Axes>"
      ]
     },
     "metadata": {
      "needs_background": "light"
     },
     "output_type": "display_data"
    },
    {
     "data": {
      "image/png": "[encoded data removed]",
      "text/plain": [
       "<Figure size 432x288 with 1 Axes>"
      ]
     },
     "metadata": {
      "needs_background": "light"
     },
     "output_type": "display_data"
    },
    {
     "data": {
      "image/png": "[encoded data removed]",
      "text/plain": [
       "<Figure size 432x288 with 1 Axes>"
      ]
     },
     "metadata": {
      "needs_background": "light"
     },
     "output_type": "display_data"
    },
    {
     "data": {
      "image/png": "[encoded data removed]",
      "text/plain": [
       "<Figure size 432x288 with 1 Axes>"
      ]
     },
     "metadata": {
      "needs_background": "light"
     },
     "output_type": "display_data"
    },
    {
     "data": {
      "image/png": "[encoded data removed]",
      "text/plain": [
       "<Figure size 432x288 with 1 Axes>"
      ]
     },
     "metadata": {
      "needs_background": "light"
     },
     "output_type": "display_data"
    },
    {
     "data": {
      "image/png": "[encoded data removed]",
      "text/plain": [
       "<Figure size 432x288 with 1 Axes>"
      ]
     },
     "metadata": {
      "needs_background": "light"
     },
     "output_type": "display_data"
    },
    {
     "data": {
      "image/png": "[encoded data removed]",
      "text/plain": [
       "<Figure size 432x288 with 1 Axes>"
      ]
     },
     "metadata": {
      "needs_background": "light"
     },
     "output_type": "display_data"
    },
    {
     "data": {
      "image/png": "[encoded data removed]",
      "text/plain": [
       "<Figure size 432x288 with 1 Axes>"
      ]
     },
     "metadata": {
      "needs_background": "light"
     },
     "output_type": "display_data"
    },
    {
     "data": {
      "image/png": "[encoded data removed]",
      "text/plain": [
       "<Figure size 432x288 with 1 Axes>"
      ]
     },
     "metadata": {
      "needs_background": "light"
     },
     "output_type": "display_data"
    },
    {
     "data": {
      "image/png": "[encoded data removed]",
      "text/plain": [
       "<Figure size 432x288 with 1 Axes>"
      ]
     },
     "metadata": {
      "needs_background": "light"
     },
     "output_type": "display_data"
    }
   ],
   "source": [
    "import matplotlib.pyplot as plt\n",
    "\n",
    "# Sample random points in the latent space\n",
    "random_latent_vectors = np.random.normal(size=(10, latent_dim))\n",
    "\n",
    "# Decode them to fake images\n",
    "generated_images = generator.predict(random_latent_vectors)\n",
    "\n",
    "for i in range(generated_images.shape[0]):\n",
    "    img = image.array_to_img(generated_images[i] * 255., scale=False)\n",
    "    plt.figure()\n",
    "    plt.imshow(img)\n",
    "    \n",
    "plt.show()"
   ]
  },
  {
   "cell_type": "markdown",
   "metadata": {},
   "source": [
    "Froggy with some pixellated artifacts."
   ]
  }
 ],
 "metadata": {
  "kernelspec": {
   "display_name": "Python 3",
   "language": "python",
   "name": "python3"
  },
  "language_info": {
   "codemirror_mode": {
    "name": "ipython",
    "version": 3
   },
   "file_extension": ".py",
   "mimetype": "text/x-python",
   "name": "python",
   "nbconvert_exporter": "python",
   "pygments_lexer": "ipython3",
   "version": "3.8.5"
  }
 },
 "nbformat": 4,
 "nbformat_minor": 2
}
